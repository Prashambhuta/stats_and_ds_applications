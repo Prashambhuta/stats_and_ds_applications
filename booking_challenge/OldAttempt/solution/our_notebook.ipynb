{
 "cells": [
  {
   "cell_type": "markdown",
   "metadata": {},
   "source": [
    "# Booking Challenge 2021\n",
    "\n",
    "This is the start of the booking challenge, atleast starting with EDA and then digging deeper.\n",
    "\n",
    "\n",
    "\n",
    "## Creating new datasets - 2021-01-16 Adrian\n",
    "Hi! I have been working a bit on the project today. Here is what I have done and why:\n",
    "\n",
    "First, I see that booking gives us one file \"train.csv\" with complete trips and one \"test.csv\" where we have to guess the last destination. In order to know how good our models actually are, I thought it could be useful to have the train dataset split in two. The original test dataset can be used later for the submission if we want to check our model officially. \n",
    "\n",
    "About the train dataset, I have splitted it into:\n",
    "NewTrain: this contains a fraction of the data, which we can  later use to train the model\n",
    "NewTest: this contains a fraction of the data, which we can later use to test the model\n",
    "\n",
    "The difference between this NewTest dataset and the previous one is that, now, we have the full information of the trip. So it will be possible to make a prediction for the last destination based on the previous destinations of each trip.\n",
    "\n",
    "## Transition matrix - 2021-01-16 Adrian\n",
    "I have created a transition  matrix. It contains how many times a customer booked first in city i and then in city j. So it is a transition T_ij. Rows: original city. Column: destination city.\n",
    "\n",
    "It also includes T_ii, when a customer booked in the same city\n",
    "\n",
    "Furthermore, I didn't do this for all destinations. A previous step was to select the top 10.000 destinations and treat the remaining cities as a rest. This was necessary because my laptop couldn't handle a bigger matrix.\n",
    "\n",
    "Unfortunately I seem to have lost the code with which I generated the TopCities.\n",
    "\n",
    "##### Next step 1: Create model_basic\n",
    "Create a basic model. It will suggest the 4 top cities based on the last city of the trip. I will test it with the NewTest.csv file.\n",
    "\n",
    "##### Next step 2: Improve model_basic\n",
    "Improve it so that it will not suggest a city already contained in the trip"
   ]
  },
  {
   "cell_type": "markdown",
   "metadata": {},
   "source": [
    "## Loading new datasets & Improving project Structure - Prasham\n",
    "* [ ] Today, I will load the generated new_train,csv into the 'exploration.ipynb' notebook.\n",
    "* [ ] I will also rename, and restructure the files:\n",
    "    1. notebook_1.ipynb - renamed to our_notebook.ipynb\n",
    "    "
   ]
  }
 ],
 "metadata": {
  "kernelspec": {
   "display_name": "Python 3",
   "language": "python",
   "name": "python3"
  },
  "language_info": {
   "codemirror_mode": {
    "name": "ipython",
    "version": 3
   },
   "file_extension": ".py",
   "mimetype": "text/x-python",
   "name": "python",
   "nbconvert_exporter": "python",
   "pygments_lexer": "ipython3",
   "version": "3.7.0"
  }
 },
 "nbformat": 4,
 "nbformat_minor": 4
}
