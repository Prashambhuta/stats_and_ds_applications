{
 "cells": [
  {
   "cell_type": "markdown",
   "metadata": {},
   "source": [
    "# Random Incidence "
   ]
  },
  {
   "cell_type": "markdown",
   "metadata": {},
   "source": [
    "Random incidence elaborates on the idea that when observation takes place without any co-ordination with the process, the end result is usually higher waiting times.\n",
    "\n",
    "Although the theoretical knowledge of the average waiting time is the average of all arrival times, but when observation itself is random the longer arrival intervals have more probability as they take more space on the timeline."
   ]
  },
  {
   "cell_type": "code",
   "execution_count": 10,
   "metadata": {},
   "outputs": [],
   "source": [
    "import random\n",
    "import numpy as np\n",
    "import matplotlib.pyplot as plt"
   ]
  },
  {
   "cell_type": "code",
   "execution_count": 28,
   "metadata": {},
   "outputs": [],
   "source": [
    "# Let's first draw some random bus arrival times, \n",
    "# with lamba (observed value) = 0.5 time unit between each bus, rounded upto 3 decimal points.\n",
    "\n",
    "arrival_times_interval = np.round(np.random.exponential(0.5, 10000), 3)\n",
    "# print(arrival_times)\n"
   ]
  },
  {
   "cell_type": "code",
   "execution_count": 29,
   "metadata": {},
   "outputs": [
    {
     "name": "stdout",
     "output_type": "stream",
     "text": [
      "0.4983862\n"
     ]
    },
    {
     "data": {
      "image/png": "[encoded data removed]",
      "text/plain": [
       "<Figure size 432x288 with 1 Axes>"
      ]
     },
     "metadata": {
      "needs_background": "light"
     },
     "output_type": "display_data"
    }
   ],
   "source": [
    "print(np.mean(arrival_times_interval))\n",
    "\n",
    "plt.hist(arrival_times_interval, 10)\n",
    "plt.title('10000 inter-arrival times with observed rate of 0.5 per unit time.')\n",
    "plt.xlabel('Time between arrivals')\n",
    "plt.ylabel('No of arrivals')\n",
    "plt.show()"
   ]
  },
  {
   "cell_type": "code",
   "execution_count": 30,
   "metadata": {},
   "outputs": [
    {
     "data": {
      "image/png": "[encoded data removed]",
      "text/plain": [
       "<Figure size 432x288 with 1 Axes>"
      ]
     },
     "metadata": {
      "needs_background": "light"
     },
     "output_type": "display_data"
    }
   ],
   "source": [
    "import pandas as pd\n",
    "\n",
    "\n",
    "arrival_times = np.cumsum(arrival_times_interval)\n",
    "arrival_times = arrival_times[arrival_times < 24]\n",
    "plt.hist(arrival_times, 24)\n",
    "plt.title('Time of each arrivals')\n",
    "plt.xlabel('Time')\n",
    "plt.ylabel('No of arrivals per hour')\n",
    "plt.show()"
   ]
  },
  {
   "cell_type": "markdown",
   "metadata": {},
   "source": [
    "As we can see from the exponential inter-arrival time are arbitarily distributed when the arrival process is Poisson.\n",
    "\n",
    "Let us check the total arrivals within 24 unit time."
   ]
  },
  {
   "cell_type": "code",
   "execution_count": 31,
   "metadata": {},
   "outputs": [
    {
     "name": "stdout",
     "output_type": "stream",
     "text": [
      "Total arrivals within 24 unit time: 44\n"
     ]
    }
   ],
   "source": [
    "print('Total arrivals within 24 unit time:', len(arrival_times))"
   ]
  },
  {
   "cell_type": "markdown",
   "metadata": {},
   "source": [
    "## Also, let us check the average waiting time."
   ]
  },
  {
   "cell_type": "code",
   "execution_count": 32,
   "metadata": {},
   "outputs": [
    {
     "data": {
      "image/png": "[encoded data removed]",
      "text/plain": [
       "<Figure size 432x288 with 1 Axes>"
      ]
     },
     "metadata": {
      "needs_background": "light"
     },
     "output_type": "display_data"
    }
   ],
   "source": [
    "arrival_intervals = np.diff(arrival_times)\n",
    "plt.hist(arrival_intervals)\n",
    "plt.title('Arrival intervals for arrivals within 24 unit time.')\n",
    "plt.xlabel('Arrival intervals')\n",
    "plt.ylabel('No of arrivals.')\n",
    "plt.show()"
   ]
  },
  {
   "cell_type": "code",
   "execution_count": 16,
   "metadata": {},
   "outputs": [
    {
     "name": "stdout",
     "output_type": "stream",
     "text": [
      "The average inter-arrival time/waiting time. 0.45\n"
     ]
    }
   ],
   "source": [
    "# Average inter arrival time or waiting time.\n",
    "print('The average inter-arrival time/waiting time.', round(np.mean(arrival_intervals), 2))"
   ]
  },
  {
   "cell_type": "markdown",
   "metadata": {},
   "source": [
    "## Now calculating the waiting time when observation is not in co-ordination with the Poisson process.\n",
    "\n",
    "We assume that the arrival is uniformly distributed between 00 - 24, and then calculate the waiting time by\n",
    "comparing it with the arrival_times."
   ]
  },
  {
   "cell_type": "code",
   "execution_count": 36,
   "metadata": {},
   "outputs": [],
   "source": [
    "# generating 100 observation times between 0 & 24, rounded upto 3 decimal points\n",
    "\n",
    "observation_times = sorted(np.round(24 * np.random.random_sample(100), 3))"
   ]
  },
  {
   "cell_type": "markdown",
   "metadata": {},
   "source": [
    "## Comparing between two arrays and calculating the difference.\n",
    "\n",
    "Let two arrays X & Y contain values of arrival time and observation time. To calculate the actual waiting time, we need to calculate the value *'j'* in Y such that Y<sub>j</sub> is greater than equal to X<sub>i</sub>"
   ]
  },
  {
   "cell_type": "code",
   "execution_count": 71,
   "metadata": {},
   "outputs": [
    {
     "name": "stdout",
     "output_type": "stream",
     "text": [
      "[1, 17, 21, 22] [8, 10, 17, 21] [9, 7, 0, 0]\n"
     ]
    }
   ],
   "source": [
    "X = np.random.randint(24, size=4)\n",
    "Y = np.random.randint(24, size=4)\n",
    "\n",
    "# The waiting time array will be - [0.5, 0.2, 0.6]\n",
    "\n",
    "O = []\n",
    "for j in sorted(Y):\n",
    "    diff = float(\"inf\")\n",
    "    for i in sorted(X):\n",
    "        if i < j:\n",
    "            continue\n",
    "        else:\n",
    "            temp = i - j\n",
    "            if temp < diff:\n",
    "                diff = temp\n",
    "    O.append(diff)\n",
    "print(sorted(X), sorted(Y), O)                "
   ]
  }
 ],
 "metadata": {
  "kernelspec": {
   "display_name": "venv",
   "language": "python",
   "name": "venv"
  },
  "language_info": {
   "codemirror_mode": {
    "name": "ipython",
    "version": 3
   },
   "file_extension": ".py",
   "mimetype": "text/x-python",
   "name": "python",
   "nbconvert_exporter": "python",
   "pygments_lexer": "ipython3",
   "version": "3.7.0"
  }
 },
 "nbformat": 4,
 "nbformat_minor": 4
}
